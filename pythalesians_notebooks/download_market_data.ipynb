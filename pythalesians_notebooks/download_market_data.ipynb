{
 "cells": [
  {
   "cell_type": "markdown",
   "metadata": {},
   "source": [
    "# Getting started with downloading data in PyThalesians"
   ]
  },
  {
   "cell_type": "markdown",
   "metadata": {},
   "source": [
    "In the broadest possible sense, there are three stages to any data science problem. \n",
    "\n",
    "* Gathering data\n",
    "* Analysing data\n",
    "* Presenting conculsions\n",
    "\n",
    "Depending on the domain the type of data and analysis will of course differ. In PyThalesians, we focus on analysis of financial markets and particular making each of these steps as generic as possible, by using abstraction. Hence, you can for example, mix many different data sources using the same interface and also use many different plotting engines with minimal changes in your code. The same is true of the data analysis in PyThalesians. We've created flexible interfaces for doing backtesting, which can be used for a large number of different strategies.\n",
    "\n",
    "In this notebook, we shall discuss how to get access to market data in PyThalesians. At present, PyThalesians supports several data sources including:\n",
    "\n",
    "* bloomberg (via Bloomberg's Python API)\n",
    "* dukascopy (FX data from DukasCopy, a retail broker)\n",
    "* quandl (via Quandl's API)\n",
    "* google, yahoo, fred, worldbank (using pandas-datareader API)\n",
    "\n",
    "First we shall include the PyThalesians module on our Python path (if you have installed by pip you won't need to do this)"
   ]
  },
  {
   "cell_type": "code",
   "execution_count": 1,
   "metadata": {
    "collapsed": false
   },
   "outputs": [],
   "source": [
    "import sys\n",
    "\n",
    "try:\n",
    "    sys.path.append('E:/Remote/pythalesians')\n",
    "except:\n",
    "    pass"
   ]
  },
  {
   "cell_type": "markdown",
   "metadata": {},
   "source": [
    "## Downloading daily market data from Bloomberg"
   ]
  },
  {
   "cell_type": "markdown",
   "metadata": {},
   "source": [
    "We define a TimeSeriesRequest object, which lets us specify what time series to download with this. We need to specify several fields such as the:\n",
    "\n",
    "* ticker (which will be used internally by PyThalesians)\n",
    "* vendor ticker (different depending on the data source)\n",
    "* vendor fields (eg. PX_LAST for closing prices on Bloomberg)\n",
    "* data_source (eg. external data source)\n",
    "* start & finish dates\n",
    "\n",
    "In our case we are downloading S&P500, FTSE and Nikkei indices daily closing prices from Bloomberg over the past "
   ]
  },
  {
   "cell_type": "code",
   "execution_count": 3,
   "metadata": {
    "collapsed": false
   },
   "outputs": [],
   "source": [
    "from pythalesians.market.requests.timeseriesrequest import TimeSeriesRequest\n",
    "from datetime import timedelta\n",
    "\n",
    "import datetime\n",
    "\n",
    "tickers = ['S&P500', 'FTSE', 'Nikkei']\n",
    "vendor_tickers = ['SPX Index', 'UKX Index', 'NKY Index']\n",
    "\n",
    "time_series_request = TimeSeriesRequest(\n",
    "        start_date = datetime.datetime.utcnow() - timedelta(days=180),  # start date\n",
    "        finish_date = datetime.datetime.utcnow(),                       # finish date\n",
    "        freq = 'daily',                                                 # daily data\n",
    "        data_source = 'bloomberg',                                      # use Bloomberg as data source\n",
    "        tickers = tickers,                                              # ticker (Thalesians)\n",
    "        fields = ['close'],                                             # which fields to download\n",
    "        vendor_tickers = vendor_tickers,                                # ticker (Bloomberg)\n",
    "        vendor_fields = ['PX_LAST'],                                    # which Bloomberg fields to download\n",
    "        cache_algo = 'internet_load_return')                            # how to return data"
   ]
  },
  {
   "cell_type": "markdown",
   "metadata": {},
   "source": [
    "We now pass this TimeSeriesRequest object to a LightTimeSeriesFactory, which will return a pandas dataframe from the data source and will also output logger text (we can edit logging.conf to make this less verbose or to change the output of the log to disk, rather than screen, however, I've included it, so we can see which classes are being called). \n",
    "\n",
    "By default, PyThalesians will split up the ticker download into several chunks, using multithreading to make several calls to our data source. The number of threads can be changed in the Constants.py file (we can also specify if we would prefer to use multiprocessing as opposed to multithreading, which gets around the Python GIL. In most cases, however, the overhead of doing this is unnecessary)."
   ]
  },
  {
   "cell_type": "code",
   "execution_count": 2,
   "metadata": {
    "collapsed": false
   },
   "outputs": [
    {
     "ename": "ImportError",
     "evalue": "No module named 'blpapi'",
     "output_type": "error",
     "traceback": [
      "\u001b[0;31m---------------------------------------------------------------------------\u001b[0m",
      "\u001b[0;31mImportError\u001b[0m                               Traceback (most recent call last)",
      "\u001b[0;32m<ipython-input-2-e73734e72934>\u001b[0m in \u001b[0;36m<module>\u001b[0;34m()\u001b[0m\n\u001b[1;32m      2\u001b[0m \u001b[0;34m\u001b[0m\u001b[0m\n\u001b[1;32m      3\u001b[0m \u001b[0mltsf\u001b[0m \u001b[0;34m=\u001b[0m \u001b[0mLightTimeSeriesFactory\u001b[0m\u001b[0;34m(\u001b[0m\u001b[0;34m)\u001b[0m\u001b[0;34m\u001b[0m\u001b[0m\n\u001b[0;32m----> 4\u001b[0;31m \u001b[0mdaily_vals\u001b[0m \u001b[0;34m=\u001b[0m \u001b[0mltsf\u001b[0m\u001b[0;34m.\u001b[0m\u001b[0mharvest_time_series\u001b[0m\u001b[0;34m(\u001b[0m\u001b[0mtime_series_request\u001b[0m\u001b[0;34m)\u001b[0m\u001b[0;34m\u001b[0m\u001b[0m\n\u001b[0m",
      "\u001b[0;32m/usr/local/lib/python3.5/site-packages/pythalesians-0.1a0-py3.5.egg/pythalesians/market/loaders/lighttimeseriesfactory.py\u001b[0m in \u001b[0;36mharvest_time_series\u001b[0;34m(self, time_series_request, kill_session)\u001b[0m\n\u001b[1;32m    125\u001b[0m \u001b[0;34m\u001b[0m\u001b[0m\n\u001b[1;32m    126\u001b[0m         \u001b[0mtickers\u001b[0m \u001b[0;34m=\u001b[0m \u001b[0mtime_series_request\u001b[0m\u001b[0;34m.\u001b[0m\u001b[0mtickers\u001b[0m\u001b[0;34m\u001b[0m\u001b[0m\n\u001b[0;32m--> 127\u001b[0;31m         \u001b[0mloader\u001b[0m \u001b[0;34m=\u001b[0m \u001b[0mself\u001b[0m\u001b[0;34m.\u001b[0m\u001b[0mget_loader\u001b[0m\u001b[0;34m(\u001b[0m\u001b[0mtime_series_request\u001b[0m\u001b[0;34m.\u001b[0m\u001b[0mdata_source\u001b[0m\u001b[0;34m)\u001b[0m\u001b[0;34m\u001b[0m\u001b[0m\n\u001b[0m\u001b[1;32m    128\u001b[0m \u001b[0;34m\u001b[0m\u001b[0m\n\u001b[1;32m    129\u001b[0m         \u001b[0;31m# check if tickers have been specified (if not load all of them for a category)\u001b[0m\u001b[0;34m\u001b[0m\u001b[0;34m\u001b[0m\u001b[0m\n",
      "\u001b[0;32m/usr/local/lib/python3.5/site-packages/pythalesians-0.1a0-py3.5.egg/pythalesians/market/loaders/lighttimeseriesfactory.py\u001b[0m in \u001b[0;36mget_loader\u001b[0;34m(self, source)\u001b[0m\n\u001b[1;32m     91\u001b[0m                 \u001b[0mloader\u001b[0m \u001b[0;34m=\u001b[0m \u001b[0mLoaderBBGCOM\u001b[0m\u001b[0;34m(\u001b[0m\u001b[0;34m)\u001b[0m\u001b[0;34m\u001b[0m\u001b[0m\n\u001b[1;32m     92\u001b[0m             \u001b[0;32melif\u001b[0m \u001b[0mself\u001b[0m\u001b[0;34m.\u001b[0m\u001b[0m_bbg_default_api\u001b[0m \u001b[0;34m==\u001b[0m \u001b[0;34m'open-api'\u001b[0m\u001b[0;34m:\u001b[0m\u001b[0;34m\u001b[0m\u001b[0m\n\u001b[0;32m---> 93\u001b[0;31m                 \u001b[0;32mfrom\u001b[0m \u001b[0mpythalesians\u001b[0m\u001b[0;34m.\u001b[0m\u001b[0mmarket\u001b[0m\u001b[0;34m.\u001b[0m\u001b[0mloaders\u001b[0m\u001b[0;34m.\u001b[0m\u001b[0mlowlevel\u001b[0m\u001b[0;34m.\u001b[0m\u001b[0mbbg\u001b[0m\u001b[0;34m.\u001b[0m\u001b[0mloaderbbgopen\u001b[0m \u001b[0;32mimport\u001b[0m \u001b[0mLoaderBBGOpen\u001b[0m\u001b[0;34m\u001b[0m\u001b[0m\n\u001b[0m\u001b[1;32m     94\u001b[0m                 \u001b[0mloader\u001b[0m \u001b[0;34m=\u001b[0m \u001b[0mLoaderBBGOpen\u001b[0m\u001b[0;34m(\u001b[0m\u001b[0;34m)\u001b[0m\u001b[0;34m\u001b[0m\u001b[0m\n\u001b[1;32m     95\u001b[0m \u001b[0;34m\u001b[0m\u001b[0m\n",
      "\u001b[0;32m/usr/local/lib/python3.5/site-packages/pythalesians-0.1a0-py3.5.egg/pythalesians/market/loaders/lowlevel/bbg/loaderbbgopen.py\u001b[0m in \u001b[0;36m<module>\u001b[0;34m()\u001b[0m\n\u001b[1;32m     27\u001b[0m \u001b[0;34m\u001b[0m\u001b[0m\n\u001b[1;32m     28\u001b[0m \u001b[0;32mimport\u001b[0m \u001b[0mpandas\u001b[0m\u001b[0;34m\u001b[0m\u001b[0m\n\u001b[0;32m---> 29\u001b[0;31m \u001b[0;32mimport\u001b[0m \u001b[0mblpapi\u001b[0m   \u001b[0;31m# Bloomberg Open API (adapted by Fil Mackay for Python 3.4 - https://github.com/filmackay/blpapi-py)\u001b[0m\u001b[0;34m\u001b[0m\u001b[0m\n\u001b[0m\u001b[1;32m     30\u001b[0m \u001b[0;34m\u001b[0m\u001b[0m\n\u001b[1;32m     31\u001b[0m \u001b[0;31m# Thalesians dependencies\u001b[0m\u001b[0;34m\u001b[0m\u001b[0;34m\u001b[0m\u001b[0m\n",
      "\u001b[0;31mImportError\u001b[0m: No module named 'blpapi'"
     ]
    }
   ],
   "source": [
    "from pythalesians.market.loaders.lighttimeseriesfactory import LightTimeSeriesFactory\n",
    "\n",
    "ltsf = LightTimeSeriesFactory()\n",
    "daily_vals = ltsf.harvest_time_series(time_series_request)"
   ]
  },
  {
   "cell_type": "markdown",
   "metadata": {},
   "source": [
    "We now have the various time series in a pandas dataframe. We can rebase all the datapoints using a function in TimeSeriesCalcs"
   ]
  },
  {
   "cell_type": "code",
   "execution_count": 4,
   "metadata": {
    "collapsed": false
   },
   "outputs": [
    {
     "ename": "NameError",
     "evalue": "name 'daily_vals' is not defined",
     "output_type": "error",
     "traceback": [
      "\u001b[0;31m---------------------------------------------------------------------------\u001b[0m",
      "\u001b[0;31mNameError\u001b[0m                                 Traceback (most recent call last)",
      "\u001b[0;32m<ipython-input-4-c36166dd00e3>\u001b[0m in \u001b[0;36m<module>\u001b[0;34m()\u001b[0m\n\u001b[1;32m      3\u001b[0m \u001b[0mtsc\u001b[0m \u001b[0;34m=\u001b[0m \u001b[0mTimeSeriesCalcs\u001b[0m\u001b[0;34m(\u001b[0m\u001b[0;34m)\u001b[0m\u001b[0;34m\u001b[0m\u001b[0m\n\u001b[1;32m      4\u001b[0m \u001b[0;34m\u001b[0m\u001b[0m\n\u001b[0;32m----> 5\u001b[0;31m \u001b[0mdf\u001b[0m \u001b[0;34m=\u001b[0m \u001b[0mtsc\u001b[0m\u001b[0;34m.\u001b[0m\u001b[0mcreate_mult_index_from_prices\u001b[0m\u001b[0;34m(\u001b[0m\u001b[0mdaily_vals\u001b[0m\u001b[0;34m)\u001b[0m\u001b[0;34m\u001b[0m\u001b[0m\n\u001b[0m\u001b[1;32m      6\u001b[0m \u001b[0mdf\u001b[0m \u001b[0;34m=\u001b[0m \u001b[0mdf\u001b[0m\u001b[0;34m.\u001b[0m\u001b[0mfillna\u001b[0m\u001b[0;34m(\u001b[0m\u001b[0mmethod\u001b[0m\u001b[0;34m=\u001b[0m\u001b[0;34m'ffill'\u001b[0m\u001b[0;34m)\u001b[0m\u001b[0;34m\u001b[0m\u001b[0m\n",
      "\u001b[0;31mNameError\u001b[0m: name 'daily_vals' is not defined"
     ]
    }
   ],
   "source": [
    "from pythalesians.timeseries.calcs.timeseriescalcs import TimeSeriesCalcs\n",
    "\n",
    "tsc = TimeSeriesCalcs()\n",
    "\n",
    "df = tsc.create_mult_index_from_prices(daily_vals)\n",
    "df = df.fillna(method='ffill')"
   ]
  },
  {
   "cell_type": "markdown",
   "metadata": {},
   "source": [
    "Lastly we can plot the results! We shall plot it with the PlotFactory class using PyThalesians engine (a wrapper on top of matplotlib). We can specify the properties of the plot using a GraphProperties class. The first line, forces matplotlib to give us the plot in the notebook, as opposed to a separate window. "
   ]
  },
  {
   "cell_type": "code",
   "execution_count": 5,
   "metadata": {
    "collapsed": false
   },
   "outputs": [
    {
     "ename": "NameError",
     "evalue": "name 'df' is not defined",
     "output_type": "error",
     "traceback": [
      "\u001b[0;31m---------------------------------------------------------------------------\u001b[0m",
      "\u001b[0;31mNameError\u001b[0m                                 Traceback (most recent call last)",
      "\u001b[0;32m<ipython-input-5-7d5b1d4ef271>\u001b[0m in \u001b[0;36m<module>\u001b[0;34m()\u001b[0m\n\u001b[1;32m     14\u001b[0m \u001b[0;34m\u001b[0m\u001b[0m\n\u001b[1;32m     15\u001b[0m \u001b[0mpf\u001b[0m \u001b[0;34m=\u001b[0m \u001b[0mPlotFactory\u001b[0m\u001b[0;34m(\u001b[0m\u001b[0;34m)\u001b[0m\u001b[0;34m\u001b[0m\u001b[0m\n\u001b[0;32m---> 16\u001b[0;31m \u001b[0mpf\u001b[0m\u001b[0;34m.\u001b[0m\u001b[0mplot_line_graph\u001b[0m\u001b[0;34m(\u001b[0m\u001b[0mdf\u001b[0m\u001b[0;34m,\u001b[0m \u001b[0madapter\u001b[0m \u001b[0;34m=\u001b[0m \u001b[0;34m'pythalesians'\u001b[0m\u001b[0;34m,\u001b[0m \u001b[0mgp\u001b[0m \u001b[0;34m=\u001b[0m \u001b[0mgp\u001b[0m\u001b[0;34m)\u001b[0m\u001b[0;34m\u001b[0m\u001b[0m\n\u001b[0m",
      "\u001b[0;31mNameError\u001b[0m: name 'df' is not defined"
     ]
    }
   ],
   "source": [
    "%matplotlib inline\n",
    "\n",
    "from pythalesians.graphics.graphs.plotfactory import PlotFactory\n",
    "from pythalesians.graphics.graphs.graphproperties import GraphProperties\n",
    "\n",
    "gp = GraphProperties()\n",
    "\n",
    "gp.source = 'Thalesians/BBG (created with PyThalesians Python library)'\n",
    "gp.title = 'Equity Markets'\n",
    "gp.scale_factor = 1\n",
    "gp.display_legend = True\n",
    "gp.x_title = 'Dates'\n",
    "gp.y_title = 'Index'\n",
    "\n",
    "pf = PlotFactory()\n",
    "pf.plot_line_graph(df, adapter = 'pythalesians', gp = gp)"
   ]
  },
  {
   "cell_type": "code",
   "execution_count": null,
   "metadata": {
    "collapsed": true
   },
   "outputs": [],
   "source": []
  }
 ],
 "metadata": {
  "kernelspec": {
   "display_name": "Python 3",
   "language": "python",
   "name": "python3"
  },
  "language_info": {
   "codemirror_mode": {
    "name": "ipython",
    "version": 3
   },
   "file_extension": ".py",
   "mimetype": "text/x-python",
   "name": "python",
   "nbconvert_exporter": "python",
   "pygments_lexer": "ipython3",
   "version": "3.5.1"
  }
 },
 "nbformat": 4,
 "nbformat_minor": 0
}
